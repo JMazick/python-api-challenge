{
 "cells": [
  {
   "cell_type": "markdown",
   "metadata": {},
   "source": [
    "# VacationPy\n",
    "----\n",
    "\n",
    "#### Note\n",
    "* Keep an eye on your API usage. Use https://developers.google.com/maps/reporting/gmp-reporting as reference for how to monitor your usage and billing.\n",
    "\n",
    "* Instructions have been included for each segment. You do not have to follow them exactly, but they are included to help you think through the steps."
   ]
  },
  {
   "cell_type": "code",
   "execution_count": 40,
   "metadata": {},
   "outputs": [],
   "source": [
    "# Dependencies and Setup\n",
    "import matplotlib.pyplot as plt\n",
    "import pandas as pd\n",
    "import numpy as np\n",
    "import requests\n",
    "import gmaps\n",
    "import os\n",
    "import json\n",
    "\n",
    "# Import API key\n",
    "from config import g_key"
   ]
  },
  {
   "cell_type": "code",
   "execution_count": 42,
   "metadata": {},
   "outputs": [],
   "source": [
    "gmaps.configure(api_key=g_key)"
   ]
  },
  {
   "cell_type": "markdown",
   "metadata": {},
   "source": [
    "### Store Part I results into DataFrame\n",
    "* Load the csv exported in Part I to a DataFrame"
   ]
  },
  {
   "cell_type": "code",
   "execution_count": 36,
   "metadata": {},
   "outputs": [
    {
     "output_type": "execute_result",
     "data": {
      "text/plain": [
       "           City  Latitude  Longitude  Max Temp  Humidity  Cloudiness  \\\n",
       "0      Tasiilaq     65.61     -37.64     20.70        96         100   \n",
       "1       Qaanaaq     77.48     -69.36      7.52        80          93   \n",
       "2       Ushuaia    -54.80     -68.30     42.80        79          75   \n",
       "3     Saskylakh     71.92     114.08      3.33        92          89   \n",
       "4  Norman Wells     65.28    -126.83     -5.80        83          75   \n",
       "\n",
       "   Wind Speed Country        Date  \n",
       "0        6.64      GL  1605397932  \n",
       "1       13.62      GL  1605397932  \n",
       "2        9.37      AR  1605397932  \n",
       "3       14.99      RU  1605397933  \n",
       "4        2.24      CA  1605397867  "
      ],
      "text/html": "<div>\n<style scoped>\n    .dataframe tbody tr th:only-of-type {\n        vertical-align: middle;\n    }\n\n    .dataframe tbody tr th {\n        vertical-align: top;\n    }\n\n    .dataframe thead th {\n        text-align: right;\n    }\n</style>\n<table border=\"1\" class=\"dataframe\">\n  <thead>\n    <tr style=\"text-align: right;\">\n      <th></th>\n      <th>City</th>\n      <th>Latitude</th>\n      <th>Longitude</th>\n      <th>Max Temp</th>\n      <th>Humidity</th>\n      <th>Cloudiness</th>\n      <th>Wind Speed</th>\n      <th>Country</th>\n      <th>Date</th>\n    </tr>\n  </thead>\n  <tbody>\n    <tr>\n      <th>0</th>\n      <td>Tasiilaq</td>\n      <td>65.61</td>\n      <td>-37.64</td>\n      <td>20.70</td>\n      <td>96</td>\n      <td>100</td>\n      <td>6.64</td>\n      <td>GL</td>\n      <td>1605397932</td>\n    </tr>\n    <tr>\n      <th>1</th>\n      <td>Qaanaaq</td>\n      <td>77.48</td>\n      <td>-69.36</td>\n      <td>7.52</td>\n      <td>80</td>\n      <td>93</td>\n      <td>13.62</td>\n      <td>GL</td>\n      <td>1605397932</td>\n    </tr>\n    <tr>\n      <th>2</th>\n      <td>Ushuaia</td>\n      <td>-54.80</td>\n      <td>-68.30</td>\n      <td>42.80</td>\n      <td>79</td>\n      <td>75</td>\n      <td>9.37</td>\n      <td>AR</td>\n      <td>1605397932</td>\n    </tr>\n    <tr>\n      <th>3</th>\n      <td>Saskylakh</td>\n      <td>71.92</td>\n      <td>114.08</td>\n      <td>3.33</td>\n      <td>92</td>\n      <td>89</td>\n      <td>14.99</td>\n      <td>RU</td>\n      <td>1605397933</td>\n    </tr>\n    <tr>\n      <th>4</th>\n      <td>Norman Wells</td>\n      <td>65.28</td>\n      <td>-126.83</td>\n      <td>-5.80</td>\n      <td>83</td>\n      <td>75</td>\n      <td>2.24</td>\n      <td>CA</td>\n      <td>1605397867</td>\n    </tr>\n  </tbody>\n</table>\n</div>"
     },
     "metadata": {},
     "execution_count": 36
    }
   ],
   "source": [
    "city_data = \"..\\\\WeatherPy\\\\weather_py_city_data.csv\"\n",
    "city_data_df = pd.read_csv(city_data)\n",
    "city_data_df.head()\n"
   ]
  },
  {
   "cell_type": "markdown",
   "metadata": {},
   "source": [
    "### Humidity Heatmap\n",
    "* Configure gmaps.\n",
    "* Use the Lat and Lng as locations and Humidity as the weight.\n",
    "* Add Heatmap layer to map."
   ]
  },
  {
   "cell_type": "code",
   "execution_count": 50,
   "metadata": {},
   "outputs": [
    {
     "output_type": "display_data",
     "data": {
      "text/plain": "Figure(layout=FigureLayout(border='1px solid black', height='420px', margin='0 auto 0 auto', width='1200px'))",
      "application/vnd.jupyter.widget-view+json": {
       "version_major": 2,
       "version_minor": 0,
       "model_id": "55bdc5ee4211458896f3a75ff9de4105"
      }
     },
     "metadata": {}
    }
   ],
   "source": [
    "# Use the Lat and Lng as locations and Humidity as the weight.\n",
    "locations = city_data_df[['Latitude', 'Longitude']]\n",
    "humidity = city_data_df['Humidity']\n",
    "\n",
    "# Add Heatmap layer to map\n",
    "figure_layout = {'width': '1200px',\n",
    "    'border': '1px solid black',\n",
    "    'margin': '0 auto 0 auto'}\n",
    "fig = gmaps.figure(layout=figure_layout)\n",
    "heatmap_layer = gmaps.heatmap_layer(locations, weights=humidity, max_intensity=100, dissipating=False, point_radius=1)\n",
    "fig.add_layer(heatmap_layer)\n",
    "#fig.savefig(\"/Images/heat_map.png\")\n",
    "fig"
   ]
  },
  {
   "cell_type": "markdown",
   "metadata": {},
   "source": [
    "### Create new DataFrame fitting weather criteria\n",
    "* Narrow down the cities to fit weather conditions.\n",
    "* Drop any rows will null values.\n",
    "* Narrow down the DataFrame to find your ideal weather condition. For example:\n",
    "* A max temperature lower than 85 degrees but higher than 70.\n",
    "* Wind speed less than 15 mph.\n",
    "* 30% cloudiness."
   ]
  },
  {
   "cell_type": "code",
   "execution_count": 87,
   "metadata": {},
   "outputs": [
    {
     "output_type": "execute_result",
     "data": {
      "text/plain": [
       "                  City  Latitude  Longitude  Max Temp  Humidity  Cloudiness  \\\n",
       "0        San Policarpo     12.18     125.51     82.74        81          22   \n",
       "1                 Hilo     19.73    -155.09     78.80        65           1   \n",
       "2   Acapulco de Juárez     16.86     -99.89     84.20        74          20   \n",
       "3              Korhogo      9.45      -5.63     72.34        37           2   \n",
       "4         Puerto Ayora     -0.74     -90.35     70.00        82          27   \n",
       "..                 ...       ...        ...       ...       ...         ...   \n",
       "64               Kidal     18.44       1.41     70.83        23           0   \n",
       "65         Wagga Wagga    -35.12     147.37     73.40        46           0   \n",
       "66           Abu Dhabi     24.47      54.37     77.00        61           0   \n",
       "67                Jati     24.35      68.27     71.22        69           0   \n",
       "68               Umluj     25.02      37.27     73.51        67           0   \n",
       "\n",
       "    Wind Speed Country        Date  \n",
       "0        10.36      PH  1605397936  \n",
       "1         6.93      US  1605397747  \n",
       "2         6.93      MX  1605397754  \n",
       "3         1.16      CI  1605397984  \n",
       "4         7.00      EC  1605398001  \n",
       "..         ...     ...         ...  \n",
       "64       10.76      ML  1605398206  \n",
       "65       10.29      AU  1605398206  \n",
       "66        6.93      AE  1605398161  \n",
       "67        7.45      PK  1605398209  \n",
       "68        3.80      SA  1605398211  \n",
       "\n",
       "[69 rows x 9 columns]"
      ],
      "text/html": "<div>\n<style scoped>\n    .dataframe tbody tr th:only-of-type {\n        vertical-align: middle;\n    }\n\n    .dataframe tbody tr th {\n        vertical-align: top;\n    }\n\n    .dataframe thead th {\n        text-align: right;\n    }\n</style>\n<table border=\"1\" class=\"dataframe\">\n  <thead>\n    <tr style=\"text-align: right;\">\n      <th></th>\n      <th>City</th>\n      <th>Latitude</th>\n      <th>Longitude</th>\n      <th>Max Temp</th>\n      <th>Humidity</th>\n      <th>Cloudiness</th>\n      <th>Wind Speed</th>\n      <th>Country</th>\n      <th>Date</th>\n    </tr>\n  </thead>\n  <tbody>\n    <tr>\n      <th>0</th>\n      <td>San Policarpo</td>\n      <td>12.18</td>\n      <td>125.51</td>\n      <td>82.74</td>\n      <td>81</td>\n      <td>22</td>\n      <td>10.36</td>\n      <td>PH</td>\n      <td>1605397936</td>\n    </tr>\n    <tr>\n      <th>1</th>\n      <td>Hilo</td>\n      <td>19.73</td>\n      <td>-155.09</td>\n      <td>78.80</td>\n      <td>65</td>\n      <td>1</td>\n      <td>6.93</td>\n      <td>US</td>\n      <td>1605397747</td>\n    </tr>\n    <tr>\n      <th>2</th>\n      <td>Acapulco de Juárez</td>\n      <td>16.86</td>\n      <td>-99.89</td>\n      <td>84.20</td>\n      <td>74</td>\n      <td>20</td>\n      <td>6.93</td>\n      <td>MX</td>\n      <td>1605397754</td>\n    </tr>\n    <tr>\n      <th>3</th>\n      <td>Korhogo</td>\n      <td>9.45</td>\n      <td>-5.63</td>\n      <td>72.34</td>\n      <td>37</td>\n      <td>2</td>\n      <td>1.16</td>\n      <td>CI</td>\n      <td>1605397984</td>\n    </tr>\n    <tr>\n      <th>4</th>\n      <td>Puerto Ayora</td>\n      <td>-0.74</td>\n      <td>-90.35</td>\n      <td>70.00</td>\n      <td>82</td>\n      <td>27</td>\n      <td>7.00</td>\n      <td>EC</td>\n      <td>1605398001</td>\n    </tr>\n    <tr>\n      <th>...</th>\n      <td>...</td>\n      <td>...</td>\n      <td>...</td>\n      <td>...</td>\n      <td>...</td>\n      <td>...</td>\n      <td>...</td>\n      <td>...</td>\n      <td>...</td>\n    </tr>\n    <tr>\n      <th>64</th>\n      <td>Kidal</td>\n      <td>18.44</td>\n      <td>1.41</td>\n      <td>70.83</td>\n      <td>23</td>\n      <td>0</td>\n      <td>10.76</td>\n      <td>ML</td>\n      <td>1605398206</td>\n    </tr>\n    <tr>\n      <th>65</th>\n      <td>Wagga Wagga</td>\n      <td>-35.12</td>\n      <td>147.37</td>\n      <td>73.40</td>\n      <td>46</td>\n      <td>0</td>\n      <td>10.29</td>\n      <td>AU</td>\n      <td>1605398206</td>\n    </tr>\n    <tr>\n      <th>66</th>\n      <td>Abu Dhabi</td>\n      <td>24.47</td>\n      <td>54.37</td>\n      <td>77.00</td>\n      <td>61</td>\n      <td>0</td>\n      <td>6.93</td>\n      <td>AE</td>\n      <td>1605398161</td>\n    </tr>\n    <tr>\n      <th>67</th>\n      <td>Jati</td>\n      <td>24.35</td>\n      <td>68.27</td>\n      <td>71.22</td>\n      <td>69</td>\n      <td>0</td>\n      <td>7.45</td>\n      <td>PK</td>\n      <td>1605398209</td>\n    </tr>\n    <tr>\n      <th>68</th>\n      <td>Umluj</td>\n      <td>25.02</td>\n      <td>37.27</td>\n      <td>73.51</td>\n      <td>67</td>\n      <td>0</td>\n      <td>3.80</td>\n      <td>SA</td>\n      <td>1605398211</td>\n    </tr>\n  </tbody>\n</table>\n<p>69 rows × 9 columns</p>\n</div>"
     },
     "metadata": {},
     "execution_count": 87
    }
   ],
   "source": [
    "new_city_data = city_data_df.loc[(city_data_df['Max Temp'] >= 70) & (city_data_df['Max Temp'] <= 85) & (city_data_df['Wind Speed'] < 15) & (city_data_df['Cloudiness'] <= 30)]\n",
    "new_city_data_df = new_city_data.reset_index()\n",
    "del new_city_data_df['index']\n",
    "new_city_data_df"
   ]
  },
  {
   "cell_type": "markdown",
   "metadata": {},
   "source": [
    "### Hotel Map\n",
    "* Store into variable named `hotel_df`.\n",
    "* Add a \"Hotel Name\" column to the DataFrame.\n",
    "* Set parameters to search for hotels with 5000 meters.\n",
    "* Hit the Google Places API for each city's coordinates.\n",
    "* Store the first Hotel result into the DataFrame.\n",
    "* Plot markers on top of the heatmap."
   ]
  },
  {
   "cell_type": "code",
   "execution_count": 91,
   "metadata": {},
   "outputs": [
    {
     "output_type": "execute_result",
     "data": {
      "text/plain": [
       "                 City  Latitude  Longitude  Max Temp  Humidity  Cloudiness  \\\n",
       "0       San Policarpo     12.18     125.51     82.74        81          22   \n",
       "1                Hilo     19.73    -155.09     78.80        65           1   \n",
       "2  Acapulco de Juárez     16.86     -99.89     84.20        74          20   \n",
       "3             Korhogo      9.45      -5.63     72.34        37           2   \n",
       "4        Puerto Ayora     -0.74     -90.35     70.00        82          27   \n",
       "\n",
       "   Wind Speed Country        Date Hotel Name  \n",
       "0       10.36      PH  1605397936             \n",
       "1        6.93      US  1605397747             \n",
       "2        6.93      MX  1605397754             \n",
       "3        1.16      CI  1605397984             \n",
       "4        7.00      EC  1605398001             "
      ],
      "text/html": "<div>\n<style scoped>\n    .dataframe tbody tr th:only-of-type {\n        vertical-align: middle;\n    }\n\n    .dataframe tbody tr th {\n        vertical-align: top;\n    }\n\n    .dataframe thead th {\n        text-align: right;\n    }\n</style>\n<table border=\"1\" class=\"dataframe\">\n  <thead>\n    <tr style=\"text-align: right;\">\n      <th></th>\n      <th>City</th>\n      <th>Latitude</th>\n      <th>Longitude</th>\n      <th>Max Temp</th>\n      <th>Humidity</th>\n      <th>Cloudiness</th>\n      <th>Wind Speed</th>\n      <th>Country</th>\n      <th>Date</th>\n      <th>Hotel Name</th>\n    </tr>\n  </thead>\n  <tbody>\n    <tr>\n      <th>0</th>\n      <td>San Policarpo</td>\n      <td>12.18</td>\n      <td>125.51</td>\n      <td>82.74</td>\n      <td>81</td>\n      <td>22</td>\n      <td>10.36</td>\n      <td>PH</td>\n      <td>1605397936</td>\n      <td></td>\n    </tr>\n    <tr>\n      <th>1</th>\n      <td>Hilo</td>\n      <td>19.73</td>\n      <td>-155.09</td>\n      <td>78.80</td>\n      <td>65</td>\n      <td>1</td>\n      <td>6.93</td>\n      <td>US</td>\n      <td>1605397747</td>\n      <td></td>\n    </tr>\n    <tr>\n      <th>2</th>\n      <td>Acapulco de Juárez</td>\n      <td>16.86</td>\n      <td>-99.89</td>\n      <td>84.20</td>\n      <td>74</td>\n      <td>20</td>\n      <td>6.93</td>\n      <td>MX</td>\n      <td>1605397754</td>\n      <td></td>\n    </tr>\n    <tr>\n      <th>3</th>\n      <td>Korhogo</td>\n      <td>9.45</td>\n      <td>-5.63</td>\n      <td>72.34</td>\n      <td>37</td>\n      <td>2</td>\n      <td>1.16</td>\n      <td>CI</td>\n      <td>1605397984</td>\n      <td></td>\n    </tr>\n    <tr>\n      <th>4</th>\n      <td>Puerto Ayora</td>\n      <td>-0.74</td>\n      <td>-90.35</td>\n      <td>70.00</td>\n      <td>82</td>\n      <td>27</td>\n      <td>7.00</td>\n      <td>EC</td>\n      <td>1605398001</td>\n      <td></td>\n    </tr>\n  </tbody>\n</table>\n</div>"
     },
     "metadata": {},
     "execution_count": 91
    }
   ],
   "source": [
    "hotel_df = []\n",
    "new_city_data_df['Hotel Name'] = ''\n",
    "new_city_data_df.head()"
   ]
  },
  {
   "cell_type": "code",
   "execution_count": 98,
   "metadata": {},
   "outputs": [
    {
     "output_type": "error",
     "ename": "KeyError",
     "evalue": "\"None of [Index(['San Policarpo', 'Hilo', 'Acapulco de Juárez', 'Korhogo',\\n       'Puerto Ayora', 'Pindiga', 'Bosaso', 'Gisborne', 'Port Lincoln',\\n       'Neiafu', 'Santa Maria', 'George Town', 'Airai', 'Pochutla', 'Arlit',\\n       'Praia', 'Mogadishu', 'Poum', 'Touros', 'Mandapeta', 'Iberia',\\n       'Ulladulla', 'Lábrea', 'Isangel', 'Salalah', 'Kapoeta', 'Araouane',\\n       'Charlestown', 'Batemans Bay', 'Chake Chake', 'Samarai', 'Sur',\\n       'Harper', 'Vao', 'Tuscaloosa', 'Makkah al Mukarramah', 'Ikorodu',\\n       'Maragogi', 'Nelson Bay', 'Chicomuselo', 'Atoyac', 'Kafue',\\n       'Banjarmasin', 'La Estancia', 'Vila Velha', 'Tefé', 'Karratha',\\n       'Youkounkoun', 'Oussouye', 'Oistins', 'Cayenne', 'Koumac', 'Teknāf',\\n       'Gouyave', 'Dubbo', 'Kupang', 'Puri', 'Jardim', 'Casino', 'Hilton Head',\\n       'La Cruz', 'San Vicente', 'Nísia Floresta', 'Pine Bluff', 'Kidal',\\n       'Wagga Wagga', 'Abu Dhabi', 'Jati', 'Umluj'],\\n      dtype='object')] are in the [index]\"",
     "traceback": [
      "\u001b[1;31m---------------------------------------------------------------------------\u001b[0m",
      "\u001b[1;31mKeyError\u001b[0m                                  Traceback (most recent call last)",
      "\u001b[1;32m<ipython-input-98-2db53a7dc556>\u001b[0m in \u001b[0;36m<module>\u001b[1;34m\u001b[0m\n\u001b[1;32m----> 1\u001b[1;33m \u001b[0mcities\u001b[0m \u001b[1;33m=\u001b[0m \u001b[0mnew_city_data_df\u001b[0m\u001b[1;33m.\u001b[0m\u001b[0mloc\u001b[0m\u001b[1;33m[\u001b[0m\u001b[0mnew_city_data_df\u001b[0m\u001b[1;33m[\u001b[0m\u001b[1;34m'City'\u001b[0m\u001b[1;33m]\u001b[0m\u001b[1;33m]\u001b[0m\u001b[1;33m\u001b[0m\u001b[1;33m\u001b[0m\u001b[0m\n\u001b[0m\u001b[0;32m      2\u001b[0m \u001b[0mlat\u001b[0m \u001b[1;33m=\u001b[0m \u001b[0mnew_city_data_df\u001b[0m\u001b[1;33m.\u001b[0m\u001b[0mloc\u001b[0m\u001b[1;33m[\u001b[0m\u001b[0mnew_city_data_df\u001b[0m\u001b[1;33m[\u001b[0m\u001b[1;34m'Latitude'\u001b[0m\u001b[1;33m]\u001b[0m\u001b[1;33m]\u001b[0m\u001b[1;33m\u001b[0m\u001b[1;33m\u001b[0m\u001b[0m\n\u001b[0;32m      3\u001b[0m \u001b[0mlng\u001b[0m \u001b[1;33m=\u001b[0m \u001b[0mnew_city_data_df\u001b[0m\u001b[1;33m.\u001b[0m\u001b[0mloc\u001b[0m\u001b[1;33m[\u001b[0m\u001b[0mnew_city_data_df\u001b[0m\u001b[1;33m[\u001b[0m\u001b[1;34m'Longitude'\u001b[0m\u001b[1;33m]\u001b[0m\u001b[1;33m]\u001b[0m\u001b[1;33m\u001b[0m\u001b[1;33m\u001b[0m\u001b[0m\n\u001b[0;32m      4\u001b[0m \u001b[0mbase_url\u001b[0m \u001b[1;33m=\u001b[0m \u001b[1;34m\"https://maps.googleapis.com/maps/api/place/nearbysearch/json\"\u001b[0m\u001b[1;33m\u001b[0m\u001b[1;33m\u001b[0m\u001b[0m\n\u001b[0;32m      5\u001b[0m \u001b[0mcoordinates\u001b[0m \u001b[1;33m=\u001b[0m \u001b[1;34mf\"{lat},{lng}\"\u001b[0m\u001b[1;33m\u001b[0m\u001b[1;33m\u001b[0m\u001b[0m\n",
      "\u001b[1;32m~\\anaconda3\\lib\\site-packages\\pandas\\core\\indexing.py\u001b[0m in \u001b[0;36m__getitem__\u001b[1;34m(self, key)\u001b[0m\n\u001b[0;32m   1766\u001b[0m \u001b[1;33m\u001b[0m\u001b[0m\n\u001b[0;32m   1767\u001b[0m             \u001b[0mmaybe_callable\u001b[0m \u001b[1;33m=\u001b[0m \u001b[0mcom\u001b[0m\u001b[1;33m.\u001b[0m\u001b[0mapply_if_callable\u001b[0m\u001b[1;33m(\u001b[0m\u001b[0mkey\u001b[0m\u001b[1;33m,\u001b[0m \u001b[0mself\u001b[0m\u001b[1;33m.\u001b[0m\u001b[0mobj\u001b[0m\u001b[1;33m)\u001b[0m\u001b[1;33m\u001b[0m\u001b[1;33m\u001b[0m\u001b[0m\n\u001b[1;32m-> 1768\u001b[1;33m             \u001b[1;32mreturn\u001b[0m \u001b[0mself\u001b[0m\u001b[1;33m.\u001b[0m\u001b[0m_getitem_axis\u001b[0m\u001b[1;33m(\u001b[0m\u001b[0mmaybe_callable\u001b[0m\u001b[1;33m,\u001b[0m \u001b[0maxis\u001b[0m\u001b[1;33m=\u001b[0m\u001b[0maxis\u001b[0m\u001b[1;33m)\u001b[0m\u001b[1;33m\u001b[0m\u001b[1;33m\u001b[0m\u001b[0m\n\u001b[0m\u001b[0;32m   1769\u001b[0m \u001b[1;33m\u001b[0m\u001b[0m\n\u001b[0;32m   1770\u001b[0m     \u001b[1;32mdef\u001b[0m \u001b[0m_is_scalar_access\u001b[0m\u001b[1;33m(\u001b[0m\u001b[0mself\u001b[0m\u001b[1;33m,\u001b[0m \u001b[0mkey\u001b[0m\u001b[1;33m:\u001b[0m \u001b[0mTuple\u001b[0m\u001b[1;33m)\u001b[0m\u001b[1;33m:\u001b[0m\u001b[1;33m\u001b[0m\u001b[1;33m\u001b[0m\u001b[0m\n",
      "\u001b[1;32m~\\anaconda3\\lib\\site-packages\\pandas\\core\\indexing.py\u001b[0m in \u001b[0;36m_getitem_axis\u001b[1;34m(self, key, axis)\u001b[0m\n\u001b[0;32m   1952\u001b[0m                     \u001b[1;32mraise\u001b[0m \u001b[0mValueError\u001b[0m\u001b[1;33m(\u001b[0m\u001b[1;34m\"Cannot index with multidimensional key\"\u001b[0m\u001b[1;33m)\u001b[0m\u001b[1;33m\u001b[0m\u001b[1;33m\u001b[0m\u001b[0m\n\u001b[0;32m   1953\u001b[0m \u001b[1;33m\u001b[0m\u001b[0m\n\u001b[1;32m-> 1954\u001b[1;33m                 \u001b[1;32mreturn\u001b[0m \u001b[0mself\u001b[0m\u001b[1;33m.\u001b[0m\u001b[0m_getitem_iterable\u001b[0m\u001b[1;33m(\u001b[0m\u001b[0mkey\u001b[0m\u001b[1;33m,\u001b[0m \u001b[0maxis\u001b[0m\u001b[1;33m=\u001b[0m\u001b[0maxis\u001b[0m\u001b[1;33m)\u001b[0m\u001b[1;33m\u001b[0m\u001b[1;33m\u001b[0m\u001b[0m\n\u001b[0m\u001b[0;32m   1955\u001b[0m \u001b[1;33m\u001b[0m\u001b[0m\n\u001b[0;32m   1956\u001b[0m             \u001b[1;31m# nested tuple slicing\u001b[0m\u001b[1;33m\u001b[0m\u001b[1;33m\u001b[0m\u001b[1;33m\u001b[0m\u001b[0m\n",
      "\u001b[1;32m~\\anaconda3\\lib\\site-packages\\pandas\\core\\indexing.py\u001b[0m in \u001b[0;36m_getitem_iterable\u001b[1;34m(self, key, axis)\u001b[0m\n\u001b[0;32m   1593\u001b[0m         \u001b[1;32melse\u001b[0m\u001b[1;33m:\u001b[0m\u001b[1;33m\u001b[0m\u001b[1;33m\u001b[0m\u001b[0m\n\u001b[0;32m   1594\u001b[0m             \u001b[1;31m# A collection of keys\u001b[0m\u001b[1;33m\u001b[0m\u001b[1;33m\u001b[0m\u001b[1;33m\u001b[0m\u001b[0m\n\u001b[1;32m-> 1595\u001b[1;33m             \u001b[0mkeyarr\u001b[0m\u001b[1;33m,\u001b[0m \u001b[0mindexer\u001b[0m \u001b[1;33m=\u001b[0m \u001b[0mself\u001b[0m\u001b[1;33m.\u001b[0m\u001b[0m_get_listlike_indexer\u001b[0m\u001b[1;33m(\u001b[0m\u001b[0mkey\u001b[0m\u001b[1;33m,\u001b[0m \u001b[0maxis\u001b[0m\u001b[1;33m,\u001b[0m \u001b[0mraise_missing\u001b[0m\u001b[1;33m=\u001b[0m\u001b[1;32mFalse\u001b[0m\u001b[1;33m)\u001b[0m\u001b[1;33m\u001b[0m\u001b[1;33m\u001b[0m\u001b[0m\n\u001b[0m\u001b[0;32m   1596\u001b[0m             return self.obj._reindex_with_indexers(\n\u001b[0;32m   1597\u001b[0m                 \u001b[1;33m{\u001b[0m\u001b[0maxis\u001b[0m\u001b[1;33m:\u001b[0m \u001b[1;33m[\u001b[0m\u001b[0mkeyarr\u001b[0m\u001b[1;33m,\u001b[0m \u001b[0mindexer\u001b[0m\u001b[1;33m]\u001b[0m\u001b[1;33m}\u001b[0m\u001b[1;33m,\u001b[0m \u001b[0mcopy\u001b[0m\u001b[1;33m=\u001b[0m\u001b[1;32mTrue\u001b[0m\u001b[1;33m,\u001b[0m \u001b[0mallow_dups\u001b[0m\u001b[1;33m=\u001b[0m\u001b[1;32mTrue\u001b[0m\u001b[1;33m\u001b[0m\u001b[1;33m\u001b[0m\u001b[0m\n",
      "\u001b[1;32m~\\anaconda3\\lib\\site-packages\\pandas\\core\\indexing.py\u001b[0m in \u001b[0;36m_get_listlike_indexer\u001b[1;34m(self, key, axis, raise_missing)\u001b[0m\n\u001b[0;32m   1550\u001b[0m             \u001b[0mkeyarr\u001b[0m\u001b[1;33m,\u001b[0m \u001b[0mindexer\u001b[0m\u001b[1;33m,\u001b[0m \u001b[0mnew_indexer\u001b[0m \u001b[1;33m=\u001b[0m \u001b[0max\u001b[0m\u001b[1;33m.\u001b[0m\u001b[0m_reindex_non_unique\u001b[0m\u001b[1;33m(\u001b[0m\u001b[0mkeyarr\u001b[0m\u001b[1;33m)\u001b[0m\u001b[1;33m\u001b[0m\u001b[1;33m\u001b[0m\u001b[0m\n\u001b[0;32m   1551\u001b[0m \u001b[1;33m\u001b[0m\u001b[0m\n\u001b[1;32m-> 1552\u001b[1;33m         self._validate_read_indexer(\n\u001b[0m\u001b[0;32m   1553\u001b[0m             \u001b[0mkeyarr\u001b[0m\u001b[1;33m,\u001b[0m \u001b[0mindexer\u001b[0m\u001b[1;33m,\u001b[0m \u001b[0mo\u001b[0m\u001b[1;33m.\u001b[0m\u001b[0m_get_axis_number\u001b[0m\u001b[1;33m(\u001b[0m\u001b[0maxis\u001b[0m\u001b[1;33m)\u001b[0m\u001b[1;33m,\u001b[0m \u001b[0mraise_missing\u001b[0m\u001b[1;33m=\u001b[0m\u001b[0mraise_missing\u001b[0m\u001b[1;33m\u001b[0m\u001b[1;33m\u001b[0m\u001b[0m\n\u001b[0;32m   1554\u001b[0m         )\n",
      "\u001b[1;32m~\\anaconda3\\lib\\site-packages\\pandas\\core\\indexing.py\u001b[0m in \u001b[0;36m_validate_read_indexer\u001b[1;34m(self, key, indexer, axis, raise_missing)\u001b[0m\n\u001b[0;32m   1638\u001b[0m             \u001b[1;32mif\u001b[0m \u001b[0mmissing\u001b[0m \u001b[1;33m==\u001b[0m \u001b[0mlen\u001b[0m\u001b[1;33m(\u001b[0m\u001b[0mindexer\u001b[0m\u001b[1;33m)\u001b[0m\u001b[1;33m:\u001b[0m\u001b[1;33m\u001b[0m\u001b[1;33m\u001b[0m\u001b[0m\n\u001b[0;32m   1639\u001b[0m                 \u001b[0maxis_name\u001b[0m \u001b[1;33m=\u001b[0m \u001b[0mself\u001b[0m\u001b[1;33m.\u001b[0m\u001b[0mobj\u001b[0m\u001b[1;33m.\u001b[0m\u001b[0m_get_axis_name\u001b[0m\u001b[1;33m(\u001b[0m\u001b[0maxis\u001b[0m\u001b[1;33m)\u001b[0m\u001b[1;33m\u001b[0m\u001b[1;33m\u001b[0m\u001b[0m\n\u001b[1;32m-> 1640\u001b[1;33m                 \u001b[1;32mraise\u001b[0m \u001b[0mKeyError\u001b[0m\u001b[1;33m(\u001b[0m\u001b[1;34mf\"None of [{key}] are in the [{axis_name}]\"\u001b[0m\u001b[1;33m)\u001b[0m\u001b[1;33m\u001b[0m\u001b[1;33m\u001b[0m\u001b[0m\n\u001b[0m\u001b[0;32m   1641\u001b[0m \u001b[1;33m\u001b[0m\u001b[0m\n\u001b[0;32m   1642\u001b[0m             \u001b[1;31m# We (temporarily) allow for some missing keys with .loc, except in\u001b[0m\u001b[1;33m\u001b[0m\u001b[1;33m\u001b[0m\u001b[1;33m\u001b[0m\u001b[0m\n",
      "\u001b[1;31mKeyError\u001b[0m: \"None of [Index(['San Policarpo', 'Hilo', 'Acapulco de Juárez', 'Korhogo',\\n       'Puerto Ayora', 'Pindiga', 'Bosaso', 'Gisborne', 'Port Lincoln',\\n       'Neiafu', 'Santa Maria', 'George Town', 'Airai', 'Pochutla', 'Arlit',\\n       'Praia', 'Mogadishu', 'Poum', 'Touros', 'Mandapeta', 'Iberia',\\n       'Ulladulla', 'Lábrea', 'Isangel', 'Salalah', 'Kapoeta', 'Araouane',\\n       'Charlestown', 'Batemans Bay', 'Chake Chake', 'Samarai', 'Sur',\\n       'Harper', 'Vao', 'Tuscaloosa', 'Makkah al Mukarramah', 'Ikorodu',\\n       'Maragogi', 'Nelson Bay', 'Chicomuselo', 'Atoyac', 'Kafue',\\n       'Banjarmasin', 'La Estancia', 'Vila Velha', 'Tefé', 'Karratha',\\n       'Youkounkoun', 'Oussouye', 'Oistins', 'Cayenne', 'Koumac', 'Teknāf',\\n       'Gouyave', 'Dubbo', 'Kupang', 'Puri', 'Jardim', 'Casino', 'Hilton Head',\\n       'La Cruz', 'San Vicente', 'Nísia Floresta', 'Pine Bluff', 'Kidal',\\n       'Wagga Wagga', 'Abu Dhabi', 'Jati', 'Umluj'],\\n      dtype='object')] are in the [index]\""
     ]
    }
   ],
   "source": [
    "cities = new_city_data_df.loc[new_city_data_df['City']]\n",
    "lat = new_city_data_df.loc[new_city_data_df['Latitude']]\n",
    "lng = new_city_data_df.loc[new_city_data_df['Longitude']]\n",
    "base_url = \"https://maps.googleapis.com/maps/api/place/nearbysearch/json\"\n",
    "coordinates = f\"{lat},{lng}\"\n",
    "params = {\"location\": coordinates,\"types\": \"lodging\",\"radius\": 5000,\"key\": g_key}\n",
    "\n",
    "for i in cities:\n",
    "\n",
    "    try: \n",
    "        hotel_info = requests.get(base_url, params + i).json()\n",
    "        print(f'Processing record')\n",
    "        hotel_df.append(response_data[\"results\"][0][\"name\"])\n",
    "        \n",
    "    except KeyError:\n",
    "        print(f'No hotel near {city}. Skipped.')"
   ]
  },
  {
   "cell_type": "code",
   "execution_count": 100,
   "metadata": {},
   "outputs": [],
   "source": [
    "# Could  not get loop to work :("
   ]
  },
  {
   "cell_type": "code",
   "execution_count": 99,
   "metadata": {},
   "outputs": [
    {
     "output_type": "error",
     "ename": "AttributeError",
     "evalue": "'list' object has no attribute 'iterrows'",
     "traceback": [
      "\u001b[1;31m---------------------------------------------------------------------------\u001b[0m",
      "\u001b[1;31mAttributeError\u001b[0m                            Traceback (most recent call last)",
      "\u001b[1;32m<ipython-input-99-464b2b3e63ad>\u001b[0m in \u001b[0;36m<module>\u001b[1;34m\u001b[0m\n\u001b[0;32m     11\u001b[0m \u001b[1;31m# Store the DataFrame Row\u001b[0m\u001b[1;33m\u001b[0m\u001b[1;33m\u001b[0m\u001b[1;33m\u001b[0m\u001b[0m\n\u001b[0;32m     12\u001b[0m \u001b[1;31m# NOTE: be sure to update with your DataFrame name\u001b[0m\u001b[1;33m\u001b[0m\u001b[1;33m\u001b[0m\u001b[1;33m\u001b[0m\u001b[0m\n\u001b[1;32m---> 13\u001b[1;33m \u001b[0mhotel_info\u001b[0m \u001b[1;33m=\u001b[0m \u001b[1;33m[\u001b[0m\u001b[0minfo_box_template\u001b[0m\u001b[1;33m.\u001b[0m\u001b[0mformat\u001b[0m\u001b[1;33m(\u001b[0m\u001b[1;33m**\u001b[0m\u001b[0mrow\u001b[0m\u001b[1;33m)\u001b[0m \u001b[1;32mfor\u001b[0m \u001b[0mindex\u001b[0m\u001b[1;33m,\u001b[0m \u001b[0mrow\u001b[0m \u001b[1;32min\u001b[0m \u001b[0mhotel_df\u001b[0m\u001b[1;33m.\u001b[0m\u001b[0miterrows\u001b[0m\u001b[1;33m(\u001b[0m\u001b[1;33m)\u001b[0m\u001b[1;33m]\u001b[0m\u001b[1;33m\u001b[0m\u001b[1;33m\u001b[0m\u001b[0m\n\u001b[0m\u001b[0;32m     14\u001b[0m \u001b[0mlocations\u001b[0m \u001b[1;33m=\u001b[0m \u001b[0mhotel_df\u001b[0m\u001b[1;33m[\u001b[0m\u001b[1;33m[\u001b[0m\u001b[1;34m\"Lat\"\u001b[0m\u001b[1;33m,\u001b[0m \u001b[1;34m\"Lng\"\u001b[0m\u001b[1;33m]\u001b[0m\u001b[1;33m]\u001b[0m\u001b[1;33m\u001b[0m\u001b[1;33m\u001b[0m\u001b[0m\n",
      "\u001b[1;31mAttributeError\u001b[0m: 'list' object has no attribute 'iterrows'"
     ]
    }
   ],
   "source": [
    "# NOTE: Do not change any of the code in this cell\n",
    "\n",
    "# Using the template add the hotel marks to the heatmap\n",
    "info_box_template = \"\"\"\n",
    "<dl>\n",
    "<dt>Name</dt><dd>{Hotel Name}</dd>\n",
    "<dt>City</dt><dd>{City}</dd>\n",
    "<dt>Country</dt><dd>{Country}</dd>\n",
    "</dl>\n",
    "\"\"\"\n",
    "# Store the DataFrame Row\n",
    "# NOTE: be sure to update with your DataFrame name\n",
    "hotel_info = [info_box_template.format(**row) for index, row in hotel_df.iterrows()]\n",
    "locations = hotel_df[[\"Lat\", \"Lng\"]]"
   ]
  },
  {
   "cell_type": "code",
   "execution_count": null,
   "metadata": {},
   "outputs": [],
   "source": [
    "# Add marker layer ontop of heat map\n",
    "\n",
    "\n",
    "# Display figure\n"
   ]
  },
  {
   "cell_type": "code",
   "execution_count": null,
   "metadata": {},
   "outputs": [],
   "source": []
  }
 ],
 "metadata": {
  "kernelspec": {
   "name": "python3",
   "display_name": "Python 3.8.3 64-bit (conda)",
   "metadata": {
    "interpreter": {
     "hash": "5ec47171b3f453e18dd5b54d8e1a40461b86f8d53c68c08315be766817c76581"
    }
   }
  },
  "language_info": {
   "codemirror_mode": {
    "name": "ipython",
    "version": 3
   },
   "file_extension": ".py",
   "mimetype": "text/x-python",
   "name": "python",
   "nbconvert_exporter": "python",
   "pygments_lexer": "ipython3",
   "version": "3.8.3-final"
  },
  "latex_envs": {
   "LaTeX_envs_menu_present": true,
   "autoclose": false,
   "autocomplete": true,
   "bibliofile": "biblio.bib",
   "cite_by": "apalike",
   "current_citInitial": 1,
   "eqLabelWithNumbers": true,
   "eqNumInitial": 1,
   "hotkeys": {
    "equation": "Ctrl-E",
    "itemize": "Ctrl-I"
   },
   "labels_anchors": false,
   "latex_user_defs": false,
   "report_style_numbering": false,
   "user_envs_cfg": false
  }
 },
 "nbformat": 4,
 "nbformat_minor": 4
}